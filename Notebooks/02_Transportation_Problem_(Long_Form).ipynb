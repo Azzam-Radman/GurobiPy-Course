{
  "nbformat": 4,
  "nbformat_minor": 0,
  "metadata": {
    "colab": {
      "provenance": []
    },
    "kernelspec": {
      "name": "python3",
      "display_name": "Python 3"
    },
    "language_info": {
      "name": "python"
    }
  },
  "cells": [
    {
      "cell_type": "code",
      "execution_count": null,
      "metadata": {
        "id": "shg8fxqT5h42"
      },
      "outputs": [],
      "source": [
        "!pip install gurobipy>=10\n",
        "\n",
        "import gurobipy as gp\n",
        "from gurobipy import GRB\n",
        "\n",
        "import re\n",
        "\n",
        "path = '/content/gurobi_license.lic'\n",
        "with open(path, 'r') as file:\n",
        "    content = file.read()\n",
        "\n",
        "pattern = re.compile(r'(\\w+)=([-\\w]+)')\n",
        "matches = pattern.findall(content)\n",
        "\n",
        "params = {}\n",
        "for key, value in matches:\n",
        "    if key == \"LICENSEID\":\n",
        "        params[key] = int(value)\n",
        "    else:\n",
        "        params[key] = value\n",
        "\n",
        "\n",
        "env = gp.Env(params=params)\n",
        "m = gp.Model(env=env, name='transportation')"
      ]
    },
    {
      "cell_type": "markdown",
      "source": [
        "# Decision Variables"
      ],
      "metadata": {
        "id": "Pqn_8M7j7S69"
      }
    },
    {
      "cell_type": "code",
      "source": [
        "x00 = m.addVar(vtype=GRB.INTEGER, name='x00')\n",
        "x01 = m.addVar(vtype=GRB.INTEGER, name='x01')\n",
        "x02 = m.addVar(vtype=GRB.INTEGER, name='x02')\n",
        "x03 = m.addVar(vtype=GRB.INTEGER, name='x03')\n",
        "\n",
        "x10 = m.addVar(vtype=GRB.INTEGER, name='x10')\n",
        "x11 = m.addVar(vtype=GRB.INTEGER, name='x11')\n",
        "x12 = m.addVar(vtype=GRB.INTEGER, name='x12')\n",
        "x13 = m.addVar(vtype=GRB.INTEGER, name='x13')\n",
        "\n",
        "x20 = m.addVar(vtype=GRB.INTEGER, name='x20')\n",
        "x21 = m.addVar(vtype=GRB.INTEGER, name='x21')\n",
        "x22 = m.addVar(vtype=GRB.INTEGER, name='x22')\n",
        "x23 = m.addVar(vtype=GRB.INTEGER, name='x23')\n"
      ],
      "metadata": {
        "id": "YB46IX_e66EN"
      },
      "execution_count": null,
      "outputs": []
    },
    {
      "cell_type": "markdown",
      "source": [
        "# Objective"
      ],
      "metadata": {
        "id": "Az9QnHl68Oel"
      }
    },
    {
      "cell_type": "code",
      "source": [
        "m.setObjective(15*x00 + 17*x01 + 14*x02 + 18*x03 +\n",
        "               18*x10 + 12*x11 + 13*x12 + 19*x13 +\n",
        "               13*x20 + 15*x21 + 16*x22 + 13*x23,\n",
        "               sense=GRB.MINIMIZE)"
      ],
      "metadata": {
        "id": "Y2iFqJov8MTI"
      },
      "execution_count": null,
      "outputs": []
    },
    {
      "cell_type": "markdown",
      "source": [
        "# Constraints"
      ],
      "metadata": {
        "id": "-vm-zc6_8yvH"
      }
    },
    {
      "cell_type": "code",
      "source": [
        "m.addConstr(x00 + x01 + x02 + x03 <= 400, name='c0x')\n",
        "m.addConstr(x10 + x11 + x12 + x13 <= 750, name='c1x')\n",
        "m.addConstr(x20 + x21 + x22 + x23 <= 380, name='c2x')\n",
        "\n",
        "m.addConstr(x00 + x10 + x20 >= 320, name='cx0')\n",
        "m.addConstr(x01 + x11 + x21 >= 280, name='cx1')\n",
        "m.addConstr(x02 + x12 + x22 >= 560, name='cx2')\n",
        "m.addConstr(x03 + x13 + x23 >= 370, name='cx3')"
      ],
      "metadata": {
        "colab": {
          "base_uri": "https://localhost:8080/"
        },
        "id": "wt5z4-gJ51sS",
        "outputId": "175de6e6-a412-41af-e1d3-ab0708749a9f"
      },
      "execution_count": null,
      "outputs": [
        {
          "output_type": "execute_result",
          "data": {
            "text/plain": [
              "<gurobi.Constr *Awaiting Model Update*>"
            ]
          },
          "metadata": {},
          "execution_count": 10
        }
      ]
    },
    {
      "cell_type": "markdown",
      "source": [
        "# Solve (Optimize)"
      ],
      "metadata": {
        "id": "g_MxilSp9tzp"
      }
    },
    {
      "cell_type": "code",
      "source": [
        "m.optimize()"
      ],
      "metadata": {
        "colab": {
          "base_uri": "https://localhost:8080/"
        },
        "id": "cTS3lgOw5-5T",
        "outputId": "4713df71-4eaa-42ac-995d-0559f385f5e7"
      },
      "execution_count": null,
      "outputs": [
        {
          "output_type": "stream",
          "name": "stdout",
          "text": [
            "Gurobi Optimizer version 11.0.2 build v11.0.2rc0 (linux64 - \"Ubuntu 22.04.3 LTS\")\n",
            "\n",
            "CPU model: Intel(R) Xeon(R) CPU @ 2.20GHz, instruction set [SSE2|AVX|AVX2]\n",
            "Thread count: 1 physical cores, 2 logical processors, using up to 2 threads\n",
            "\n",
            "Academic license 2515815 - for non-commercial use only - registered to ag___@louisville.edu\n",
            "Optimize a model with 13 rows, 15 columns and 45 nonzeros\n",
            "Model fingerprint: 0x535d4bc3\n",
            "Variable types: 0 continuous, 15 integer (0 binary)\n",
            "Coefficient statistics:\n",
            "  Matrix range     [1e+00, 1e+00]\n",
            "  Objective range  [1e+01, 2e+01]\n",
            "  Bounds range     [0e+00, 0e+00]\n",
            "  RHS range        [3e+02, 8e+02]\n",
            "Found heuristic solution: objective 22990.000000\n",
            "Presolve removed 6 rows and 3 columns\n",
            "Presolve time: 0.00s\n",
            "Presolved: 7 rows, 12 columns, 24 nonzeros\n",
            "Variable types: 0 continuous, 12 integer (0 binary)\n",
            "\n",
            "Root relaxation: objective 2.032000e+04, 6 iterations, 0.00 seconds (0.00 work units)\n",
            "\n",
            "    Nodes    |    Current Node    |     Objective Bounds      |     Work\n",
            " Expl Unexpl |  Obj  Depth IntInf | Incumbent    BestBd   Gap | It/Node Time\n",
            "\n",
            "*    0     0               0    20320.000000 20320.0000  0.00%     -    0s\n",
            "\n",
            "Explored 1 nodes (6 simplex iterations) in 0.05 seconds (0.00 work units)\n",
            "Thread count was 2 (of 2 available processors)\n",
            "\n",
            "Solution count 2: 20320 22990 \n",
            "\n",
            "Optimal solution found (tolerance 1.00e-04)\n",
            "Best objective 2.032000000000e+04, best bound 2.032000000000e+04, gap 0.0000%\n"
          ]
        }
      ]
    },
    {
      "cell_type": "code",
      "source": [
        "for v in m.getVars():\n",
        "    print(v.VarName, v.X)"
      ],
      "metadata": {
        "colab": {
          "base_uri": "https://localhost:8080/"
        },
        "id": "273vOxXk6SqU",
        "outputId": "555ae07c-2ebe-4e1d-f802-4c36e7a8e27c"
      },
      "execution_count": null,
      "outputs": [
        {
          "output_type": "stream",
          "name": "stdout",
          "text": [
            "x00 -0.0\n",
            "x00 -0.0\n",
            "x00 -0.0\n",
            "x00 310.0\n",
            "x01 -0.0\n",
            "x02 90.0\n",
            "x03 -0.0\n",
            "x10 -0.0\n",
            "x11 280.0\n",
            "x12 470.0\n",
            "x13 -0.0\n",
            "x20 10.0\n",
            "x21 -0.0\n",
            "x22 -0.0\n",
            "x23 370.0\n"
          ]
        }
      ]
    },
    {
      "cell_type": "code",
      "source": [
        "for v in m.getVars():\n",
        "    if v.X > 0:\n",
        "        print(v.VarName, v.X)"
      ],
      "metadata": {
        "colab": {
          "base_uri": "https://localhost:8080/"
        },
        "id": "I8jSWfXV6n8y",
        "outputId": "e5191d8e-154b-43d3-d2bd-301f086c2521"
      },
      "execution_count": null,
      "outputs": [
        {
          "output_type": "stream",
          "name": "stdout",
          "text": [
            "x00 310.0\n",
            "x02 90.0\n",
            "x11 280.0\n",
            "x12 470.0\n",
            "x20 10.0\n",
            "x23 370.0\n"
          ]
        }
      ]
    },
    {
      "cell_type": "code",
      "source": [
        "print(m.ObjVal)"
      ],
      "metadata": {
        "colab": {
          "base_uri": "https://localhost:8080/"
        },
        "id": "334puCDs-EeK",
        "outputId": "2a761994-2ca6-420c-d41f-728de1829987"
      },
      "execution_count": null,
      "outputs": [
        {
          "output_type": "stream",
          "name": "stdout",
          "text": [
            "20320.0\n"
          ]
        }
      ]
    },
    {
      "cell_type": "code",
      "source": [],
      "metadata": {
        "id": "ObxCLxEl-I4i"
      },
      "execution_count": null,
      "outputs": []
    }
  ]
}