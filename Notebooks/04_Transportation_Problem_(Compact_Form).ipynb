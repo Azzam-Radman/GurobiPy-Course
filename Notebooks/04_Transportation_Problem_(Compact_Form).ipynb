{
  "nbformat": 4,
  "nbformat_minor": 0,
  "metadata": {
    "colab": {
      "provenance": []
    },
    "kernelspec": {
      "name": "python3",
      "display_name": "Python 3"
    },
    "language_info": {
      "name": "python"
    }
  },
  "cells": [
    {
      "cell_type": "code",
      "execution_count": null,
      "metadata": {
        "id": "TFBIa4wL0GMz"
      },
      "outputs": [],
      "source": [
        "!pip install gurobipy>=10"
      ]
    },
    {
      "cell_type": "code",
      "source": [
        "import numpy as np\n",
        "import gurobipy as gp\n",
        "from gurobipy import GRB"
      ],
      "metadata": {
        "id": "poJ0-ISn0wqp"
      },
      "execution_count": null,
      "outputs": []
    },
    {
      "cell_type": "code",
      "source": [
        "supply = range(3)\n",
        "demand = range(4)\n",
        "\n",
        "costs = np.array([\n",
        "    [15, 17, 14, 18],\n",
        "    [18, 12, 13, 19],\n",
        "    [13, 15, 16, 13]\n",
        "])\n",
        "\n",
        "m = gp.Model(name='network')\n",
        "\n",
        "\n",
        "x = m.addVars(supply, demand, name='quantity')\n",
        "\n",
        "m.setObjective(\n",
        "    gp.quicksum(x[i, j] * costs[i, j] for i in supply for j in demand), sense=GRB.MINIMIZE\n",
        ")\n",
        "\n",
        "m.addConstrs(\n",
        "    (gp.quicksum(x[i, j] for j in demand) <= [400, 750, 380][i] for i in supply)\n",
        "    , name='supply_const')\n",
        "\n",
        "m.addConstrs((gp.quicksum(x[i, j] for i in supply) >= [320, 280, 560, 370][j] for j in demand), name='demand_const')\n",
        "\n",
        "m.optimize()"
      ],
      "metadata": {
        "colab": {
          "base_uri": "https://localhost:8080/"
        },
        "id": "YEeGJy2f0wbg",
        "outputId": "36842a0b-8d4c-4999-d6e5-a65ddb9a76fe"
      },
      "execution_count": null,
      "outputs": [
        {
          "output_type": "stream",
          "name": "stdout",
          "text": [
            "Gurobi Optimizer version 11.0.2 build v11.0.2rc0 (linux64 - \"Ubuntu 22.04.3 LTS\")\n",
            "\n",
            "CPU model: Intel(R) Xeon(R) CPU @ 2.20GHz, instruction set [SSE2|AVX|AVX2]\n",
            "Thread count: 1 physical cores, 2 logical processors, using up to 2 threads\n",
            "\n",
            "Optimize a model with 7 rows, 12 columns and 24 nonzeros\n",
            "Model fingerprint: 0xdcc42105\n",
            "Coefficient statistics:\n",
            "  Matrix range     [1e+00, 1e+00]\n",
            "  Objective range  [1e+01, 2e+01]\n",
            "  Bounds range     [0e+00, 0e+00]\n",
            "  RHS range        [3e+02, 8e+02]\n",
            "Presolve time: 0.01s\n",
            "Presolved: 7 rows, 12 columns, 24 nonzeros\n",
            "\n",
            "Iteration    Objective       Primal Inf.    Dual Inf.      Time\n",
            "       0    0.0000000e+00   1.530000e+03   0.000000e+00      0s\n",
            "       6    2.0320000e+04   0.000000e+00   0.000000e+00      0s\n",
            "\n",
            "Solved in 6 iterations and 0.01 seconds (0.00 work units)\n",
            "Optimal objective  2.032000000e+04\n"
          ]
        }
      ]
    },
    {
      "cell_type": "code",
      "source": [
        "for v in m.getVars():\n",
        "    print(v.VarName, v.X)"
      ],
      "metadata": {
        "id": "dTAlQW48_u3g",
        "colab": {
          "base_uri": "https://localhost:8080/"
        },
        "outputId": "c90e3c56-01de-468a-b057-d2a1a6a3ab53"
      },
      "execution_count": null,
      "outputs": [
        {
          "output_type": "stream",
          "name": "stdout",
          "text": [
            "quantity[0,0] 310.0\n",
            "quantity[0,1] 0.0\n",
            "quantity[0,2] 90.0\n",
            "quantity[0,3] 0.0\n",
            "quantity[1,0] 0.0\n",
            "quantity[1,1] 280.0\n",
            "quantity[1,2] 470.0\n",
            "quantity[1,3] 0.0\n",
            "quantity[2,0] 10.0\n",
            "quantity[2,1] 0.0\n",
            "quantity[2,2] 0.0\n",
            "quantity[2,3] 370.0\n"
          ]
        }
      ]
    },
    {
      "cell_type": "code",
      "source": [
        "for v in m.getVars():\n",
        "    if v.X > 0:\n",
        "        print(v.VarName, v.X)"
      ],
      "metadata": {
        "id": "DOKtsWTsDlwZ",
        "colab": {
          "base_uri": "https://localhost:8080/"
        },
        "outputId": "b2d0d9ae-7515-4cbe-c054-611988747378"
      },
      "execution_count": null,
      "outputs": [
        {
          "output_type": "stream",
          "name": "stdout",
          "text": [
            "x[0,0] 310.0\n",
            "x[0,2] 90.0\n",
            "x[1,1] 280.0\n",
            "x[1,2] 470.0\n",
            "x[2,0] 10.0\n",
            "x[2,3] 370.0\n"
          ]
        }
      ]
    },
    {
      "cell_type": "code",
      "source": [
        "supply = range(3)\n",
        "demand = range(4)\n",
        "\n",
        "caps = [400, 750, 380]\n",
        "dems = [320, 280, 560, 370]\n",
        "\n",
        "costs = np.array([\n",
        "    [15, 17, 14, 18],\n",
        "    [18, 12, 13, 19],\n",
        "    [13, 15, 16, 13]\n",
        "])\n",
        "\n",
        "m = gp.Model(name='network')\n",
        "\n",
        "\n",
        "x = m.addVars(supply, demand, name='quantity')\n",
        "\n",
        "m.setObjective(\n",
        "    gp.quicksum(x[i, j] * costs[i, j] for i in supply for j in demand), sense=GRB.MINIMIZE\n",
        ")\n",
        "\n",
        "m.addConstrs(\n",
        "    (gp.quicksum(x[i, j] for j in demand) <= caps[i] for i in supply)\n",
        "    , name='supply_const')\n",
        "\n",
        "m.addConstrs((gp.quicksum(x[i, j] for i in supply) >= dems[j] for j in demand), name='demand_const')\n",
        "\n",
        "m.optimize()"
      ],
      "metadata": {
        "id": "IocA6xblDluQ",
        "colab": {
          "base_uri": "https://localhost:8080/"
        },
        "outputId": "4fe1702e-e2dc-4664-ff26-c29e7a9fffde"
      },
      "execution_count": null,
      "outputs": [
        {
          "output_type": "stream",
          "name": "stdout",
          "text": [
            "Gurobi Optimizer version 11.0.2 build v11.0.2rc0 (linux64 - \"Ubuntu 22.04.3 LTS\")\n",
            "\n",
            "CPU model: Intel(R) Xeon(R) CPU @ 2.20GHz, instruction set [SSE2|AVX|AVX2]\n",
            "Thread count: 1 physical cores, 2 logical processors, using up to 2 threads\n",
            "\n",
            "Optimize a model with 7 rows, 12 columns and 24 nonzeros\n",
            "Model fingerprint: 0xdcc42105\n",
            "Coefficient statistics:\n",
            "  Matrix range     [1e+00, 1e+00]\n",
            "  Objective range  [1e+01, 2e+01]\n",
            "  Bounds range     [0e+00, 0e+00]\n",
            "  RHS range        [3e+02, 8e+02]\n",
            "Presolve time: 0.01s\n",
            "Presolved: 7 rows, 12 columns, 24 nonzeros\n",
            "\n",
            "Iteration    Objective       Primal Inf.    Dual Inf.      Time\n",
            "       0    0.0000000e+00   1.530000e+03   0.000000e+00      0s\n",
            "       6    2.0320000e+04   0.000000e+00   0.000000e+00      0s\n",
            "\n",
            "Solved in 6 iterations and 0.02 seconds (0.00 work units)\n",
            "Optimal objective  2.032000000e+04\n"
          ]
        }
      ]
    },
    {
      "cell_type": "code",
      "source": [
        "for v in m.getVars():\n",
        "    print(v.VarName, v.X)"
      ],
      "metadata": {
        "colab": {
          "base_uri": "https://localhost:8080/"
        },
        "id": "ic3YDfAAnYeG",
        "outputId": "15f48752-1b3a-47a6-df86-78bb19bdb947"
      },
      "execution_count": null,
      "outputs": [
        {
          "output_type": "stream",
          "name": "stdout",
          "text": [
            "quantity[0,0] 310.0\n",
            "quantity[0,1] 0.0\n",
            "quantity[0,2] 90.0\n",
            "quantity[0,3] 0.0\n",
            "quantity[1,0] 0.0\n",
            "quantity[1,1] 280.0\n",
            "quantity[1,2] 470.0\n",
            "quantity[1,3] 0.0\n",
            "quantity[2,0] 10.0\n",
            "quantity[2,1] 0.0\n",
            "quantity[2,2] 0.0\n",
            "quantity[2,3] 370.0\n"
          ]
        }
      ]
    },
    {
      "cell_type": "code",
      "source": [
        "for v in m.getVars():\n",
        "    if v.X > 0:\n",
        "        print(v.VarName, v.X)"
      ],
      "metadata": {
        "id": "4-7Io2YaDlsM",
        "colab": {
          "base_uri": "https://localhost:8080/"
        },
        "outputId": "015dd25a-350a-42cf-ed90-26e29af3a557"
      },
      "execution_count": null,
      "outputs": [
        {
          "output_type": "stream",
          "name": "stdout",
          "text": [
            "quantity[0,0] 310.0\n",
            "quantity[0,2] 90.0\n",
            "quantity[1,1] 280.0\n",
            "quantity[1,2] 470.0\n",
            "quantity[2,0] 10.0\n",
            "quantity[2,3] 370.0\n"
          ]
        }
      ]
    },
    {
      "cell_type": "code",
      "source": [],
      "metadata": {
        "id": "q28-Qq-NDlkl"
      },
      "execution_count": null,
      "outputs": []
    },
    {
      "cell_type": "code",
      "source": [],
      "metadata": {
        "id": "dazFzSIY_uyL"
      },
      "execution_count": null,
      "outputs": []
    },
    {
      "cell_type": "code",
      "source": [],
      "metadata": {
        "id": "iP33EjFF_uvY"
      },
      "execution_count": null,
      "outputs": []
    },
    {
      "cell_type": "code",
      "source": [],
      "metadata": {
        "id": "sJGniS0P_us8"
      },
      "execution_count": null,
      "outputs": []
    },
    {
      "cell_type": "code",
      "source": [],
      "metadata": {
        "id": "egnLmnWS0Sl_"
      },
      "execution_count": null,
      "outputs": []
    }
  ]
}