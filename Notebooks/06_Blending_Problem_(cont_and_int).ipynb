{
  "nbformat": 4,
  "nbformat_minor": 0,
  "metadata": {
    "colab": {
      "provenance": []
    },
    "kernelspec": {
      "name": "python3",
      "display_name": "Python 3"
    },
    "language_info": {
      "name": "python"
    }
  },
  "cells": [
    {
      "cell_type": "code",
      "execution_count": null,
      "metadata": {
        "id": "jRTiX2Kh2SAL"
      },
      "outputs": [],
      "source": [
        "!pip install gurobipy>=10\n",
        "import numpy as np\n",
        "import gurobipy as gp\n",
        "from gurobipy import GRB"
      ]
    },
    {
      "cell_type": "markdown",
      "source": [
        "# Continuous"
      ],
      "metadata": {
        "id": "vnk7waBc8kgZ"
      }
    },
    {
      "cell_type": "code",
      "source": [
        "model = gp.Model(name='blending')"
      ],
      "metadata": {
        "id": "OdGsyxR82kzg",
        "colab": {
          "base_uri": "https://localhost:8080/"
        },
        "outputId": "2a1e8904-68ad-4775-fe0d-6f3f78599919"
      },
      "execution_count": null,
      "outputs": [
        {
          "output_type": "stream",
          "name": "stdout",
          "text": [
            "Restricted license - for non-production use only - expires 2025-11-24\n"
          ]
        }
      ]
    },
    {
      "cell_type": "code",
      "source": [
        "f = model.addVar(vtype=GRB.CONTINUOUS, name='F')\n",
        "r = model.addVar(vtype=GRB.CONTINUOUS, name='R')\n",
        "m = model.addVar(vtype=GRB.CONTINUOUS, name='M')\n",
        "s = model.addVar(vtype=GRB.CONTINUOUS, name='S')\n",
        "b = model.addVar(vtype=GRB.CONTINUOUS, name='B')\n",
        "l = model.addVar(vtype=GRB.CONTINUOUS, name='L')"
      ],
      "metadata": {
        "id": "QqpAnCYS2kwl"
      },
      "execution_count": null,
      "outputs": []
    },
    {
      "cell_type": "code",
      "source": [
        "model.setObjective(53*f + 50*r + 58*m + 57*s + 63*b + 54*l, sense=GRB.MINIMIZE)"
      ],
      "metadata": {
        "id": "XcbYHprx2kjy"
      },
      "execution_count": null,
      "outputs": []
    },
    {
      "cell_type": "code",
      "source": [
        "model.addConstr((r + m + b) <= 0.4*(f + r + m + s + b + l))\n",
        "model.addConstr((28*f + 31*r + 30*m + 29*s + 30*b + 33*l) >= 30*(f + r + m + s + b + l))\n",
        "model.addConstr((18*f + 21*r + 29*m + 33*s + 22*b + 21*l) >= 26*(f + r + m + s + b + l))\n",
        "model.addConstr(f + r + m + s + b + l >= 2000000)"
      ],
      "metadata": {
        "colab": {
          "base_uri": "https://localhost:8080/"
        },
        "id": "XdZIA7tn2kho",
        "outputId": "779e5fa6-38aa-4bbd-e0d6-330299b63ae5"
      },
      "execution_count": null,
      "outputs": [
        {
          "output_type": "execute_result",
          "data": {
            "text/plain": [
              "<gurobi.Constr *Awaiting Model Update*>"
            ]
          },
          "metadata": {},
          "execution_count": 5
        }
      ]
    },
    {
      "cell_type": "code",
      "source": [
        "model.optimize()"
      ],
      "metadata": {
        "colab": {
          "base_uri": "https://localhost:8080/"
        },
        "id": "CUe1ujqs8My3",
        "outputId": "4381ee5f-0d18-4dab-b291-e3b48cea341b"
      },
      "execution_count": null,
      "outputs": [
        {
          "output_type": "stream",
          "name": "stdout",
          "text": [
            "Gurobi Optimizer version 11.0.3 build v11.0.3rc0 (linux64 - \"Ubuntu 22.04.3 LTS\")\n",
            "\n",
            "CPU model: AMD EPYC 7B12, instruction set [SSE2|AVX|AVX2]\n",
            "Thread count: 1 physical cores, 2 logical processors, using up to 2 threads\n",
            "\n",
            "Optimize a model with 4 rows, 6 columns and 22 nonzeros\n",
            "Model fingerprint: 0xbf17aad2\n",
            "Coefficient statistics:\n",
            "  Matrix range     [4e-01, 8e+00]\n",
            "  Objective range  [5e+01, 6e+01]\n",
            "  Bounds range     [0e+00, 0e+00]\n",
            "  RHS range        [2e+06, 2e+06]\n",
            "Presolve time: 0.01s\n",
            "Presolved: 4 rows, 6 columns, 22 nonzeros\n",
            "\n",
            "Iteration    Objective       Primal Inf.    Dual Inf.      Time\n",
            "       0    0.0000000e+00   2.000000e+06   0.000000e+00      0s\n",
            "       4    1.0725556e+08   0.000000e+00   0.000000e+00      0s\n",
            "\n",
            "Solved in 4 iterations and 0.01 seconds (0.00 work units)\n",
            "Optimal objective  1.072555556e+08\n"
          ]
        }
      ]
    },
    {
      "cell_type": "code",
      "source": [
        "for v in model.getVars():\n",
        "    print(v.VarName, v.X)"
      ],
      "metadata": {
        "colab": {
          "base_uri": "https://localhost:8080/"
        },
        "id": "Es3qFFWT2kfU",
        "outputId": "66c03662-df0f-4607-bf0c-7e95742dec69"
      },
      "execution_count": null,
      "outputs": [
        {
          "output_type": "stream",
          "name": "stdout",
          "text": [
            "F 177777.7777777778\n",
            "R 800000.0\n",
            "M 0.0\n",
            "S 877777.7777777778\n",
            "B 0.0\n",
            "L 144444.44444444444\n"
          ]
        }
      ]
    },
    {
      "cell_type": "code",
      "source": [
        "print(model.ObjVal)"
      ],
      "metadata": {
        "colab": {
          "base_uri": "https://localhost:8080/"
        },
        "id": "7EPUxStE2kdB",
        "outputId": "4aa1f704-7e91-4a52-b499-32c3041dcda5"
      },
      "execution_count": null,
      "outputs": [
        {
          "output_type": "stream",
          "name": "stdout",
          "text": [
            "107255555.55555555\n"
          ]
        }
      ]
    },
    {
      "cell_type": "markdown",
      "source": [
        "# Integer"
      ],
      "metadata": {
        "id": "_SQ11C9I8mYa"
      }
    },
    {
      "cell_type": "code",
      "source": [
        "model = gp.Model(name='blending')"
      ],
      "metadata": {
        "id": "Gp1n6pwL2kau"
      },
      "execution_count": null,
      "outputs": []
    },
    {
      "cell_type": "code",
      "source": [
        "f = model.addVar(vtype=GRB.INTEGER, name='F')\n",
        "r = model.addVar(vtype=GRB.INTEGER, name='R')\n",
        "m = model.addVar(vtype=GRB.INTEGER, name='M')\n",
        "s = model.addVar(vtype=GRB.INTEGER, name='S')\n",
        "b = model.addVar(vtype=GRB.INTEGER, name='B')\n",
        "l = model.addVar(vtype=GRB.INTEGER, name='L')"
      ],
      "metadata": {
        "id": "eArdX30q2iUb"
      },
      "execution_count": null,
      "outputs": []
    },
    {
      "cell_type": "code",
      "source": [
        "model.setObjective(53*f + 50*r + 58*m + 57*s + 63*b + 54*l, sense=GRB.MINIMIZE)"
      ],
      "metadata": {
        "id": "9ygs3Smr8shG"
      },
      "execution_count": null,
      "outputs": []
    },
    {
      "cell_type": "code",
      "source": [
        "model.addConstr((r + m + b) <= 0.4*(f + r + m + s + b + l))\n",
        "model.addConstr((28*f + 31*r + 30*m + 29*s + 30*b + 33*l) >= 30*(f + r + m + s + b + l))\n",
        "model.addConstr((18*f + 21*r + 29*m + 33*s + 22*b + 21*l) >= 26*(f + r + m + s + b + l))\n",
        "model.addConstr(f + r + m + s + b + l >= 2000000)"
      ],
      "metadata": {
        "colab": {
          "base_uri": "https://localhost:8080/"
        },
        "id": "Pef9pcc_8u7S",
        "outputId": "ca3b5590-8f3e-4488-8c54-aeeb859ba2e7"
      },
      "execution_count": null,
      "outputs": [
        {
          "output_type": "execute_result",
          "data": {
            "text/plain": [
              "<gurobi.Constr *Awaiting Model Update*>"
            ]
          },
          "metadata": {},
          "execution_count": 12
        }
      ]
    },
    {
      "cell_type": "code",
      "source": [
        "model.optimize()"
      ],
      "metadata": {
        "colab": {
          "base_uri": "https://localhost:8080/"
        },
        "id": "1exWMrh_8wUN",
        "outputId": "05a66ff0-b6db-469b-97a4-d706de08936a"
      },
      "execution_count": null,
      "outputs": [
        {
          "output_type": "stream",
          "name": "stdout",
          "text": [
            "Gurobi Optimizer version 11.0.3 build v11.0.3rc0 (linux64 - \"Ubuntu 22.04.3 LTS\")\n",
            "\n",
            "CPU model: AMD EPYC 7B12, instruction set [SSE2|AVX|AVX2]\n",
            "Thread count: 1 physical cores, 2 logical processors, using up to 2 threads\n",
            "\n",
            "Optimize a model with 4 rows, 6 columns and 22 nonzeros\n",
            "Model fingerprint: 0x2bf9492e\n",
            "Variable types: 0 continuous, 6 integer (0 binary)\n",
            "Coefficient statistics:\n",
            "  Matrix range     [4e-01, 8e+00]\n",
            "  Objective range  [5e+01, 6e+01]\n",
            "  Bounds range     [0e+00, 0e+00]\n",
            "  RHS range        [2e+06, 2e+06]\n",
            "Presolve removed 0 rows and 1 columns\n",
            "Presolve time: 0.00s\n",
            "Presolved: 4 rows, 5 columns, 19 nonzeros\n",
            "Variable types: 0 continuous, 5 integer (0 binary)\n",
            "\n",
            "Root relaxation: objective 1.072556e+08, 4 iterations, 0.00 seconds (0.00 work units)\n",
            "\n",
            "    Nodes    |    Current Node    |     Objective Bounds      |     Work\n",
            " Expl Unexpl |  Obj  Depth IntInf | Incumbent    BestBd   Gap | It/Node Time\n",
            "\n",
            "     0     0 1.0726e+08    0    3          - 1.0726e+08      -     -    0s\n",
            "H    0     0                    1.072556e+08 1.0726e+08  0.00%     -    0s\n",
            "\n",
            "Explored 1 nodes (4 simplex iterations) in 0.03 seconds (0.00 work units)\n",
            "Thread count was 2 (of 2 available processors)\n",
            "\n",
            "Solution count 1: 1.07256e+08 \n",
            "\n",
            "Optimal solution found (tolerance 1.00e-04)\n",
            "Best objective 1.072555570000e+08, best bound 1.072555555556e+08, gap 0.0000%\n"
          ]
        }
      ]
    },
    {
      "cell_type": "code",
      "source": [
        "for v in model.getVars():\n",
        "    print(v.VarName, v.X)"
      ],
      "metadata": {
        "colab": {
          "base_uri": "https://localhost:8080/"
        },
        "id": "MSGW1uXQ8yCT",
        "outputId": "0c6f31b5-0c6a-45bb-b8bf-87fce391fe90"
      },
      "execution_count": null,
      "outputs": [
        {
          "output_type": "stream",
          "name": "stdout",
          "text": [
            "F 177777.0\n",
            "R 800000.0\n",
            "M 0.0\n",
            "S 877778.0\n",
            "B -0.0\n",
            "L 144445.0\n"
          ]
        }
      ]
    },
    {
      "cell_type": "code",
      "source": [
        "print(model.ObjVal)"
      ],
      "metadata": {
        "colab": {
          "base_uri": "https://localhost:8080/"
        },
        "id": "uQ27ABYa80y0",
        "outputId": "ab2d318a-8a75-4a9c-f3a3-21a7578e34c8"
      },
      "execution_count": null,
      "outputs": [
        {
          "output_type": "stream",
          "name": "stdout",
          "text": [
            "107255557.0\n"
          ]
        }
      ]
    },
    {
      "cell_type": "code",
      "source": [],
      "metadata": {
        "id": "vVT5o_pY85BY"
      },
      "execution_count": null,
      "outputs": []
    }
  ]
}