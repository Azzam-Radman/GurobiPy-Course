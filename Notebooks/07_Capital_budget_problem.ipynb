{
  "nbformat": 4,
  "nbformat_minor": 0,
  "metadata": {
    "colab": {
      "provenance": []
    },
    "kernelspec": {
      "name": "python3",
      "display_name": "Python 3"
    },
    "language_info": {
      "name": "python"
    }
  },
  "cells": [
    {
      "cell_type": "code",
      "source": [
        "!pip install gurobipy>=10\n",
        "\n",
        "import gurobipy as gp\n",
        "from gurobipy import GRB\n",
        "import pandas as pd"
      ],
      "metadata": {
        "id": "ZCqx2oGhVocV"
      },
      "execution_count": null,
      "outputs": []
    },
    {
      "cell_type": "markdown",
      "source": [
        "# I. Basic Scenario"
      ],
      "metadata": {
        "id": "iNSa7QnIVpHK"
      }
    },
    {
      "cell_type": "code",
      "execution_count": null,
      "metadata": {
        "id": "56Lf_lFrF7NQ",
        "colab": {
          "base_uri": "https://localhost:8080/"
        },
        "outputId": "6bf8f8ce-e3ed-4571-c9ed-09c159f393c6"
      },
      "outputs": [
        {
          "output_type": "stream",
          "name": "stdout",
          "text": [
            "Gurobi Optimizer version 11.0.3 build v11.0.3rc0 (linux64 - \"Ubuntu 22.04.3 LTS\")\n",
            "\n",
            "CPU model: Intel(R) Xeon(R) CPU @ 2.20GHz, instruction set [SSE2|AVX|AVX2]\n",
            "Thread count: 1 physical cores, 2 logical processors, using up to 2 threads\n",
            "\n",
            "Optimize a model with 6 rows, 20 columns and 120 nonzeros\n",
            "Model fingerprint: 0x70eb4e5f\n",
            "Variable types: 0 continuous, 20 integer (20 binary)\n",
            "Coefficient statistics:\n",
            "  Matrix range     [3e+00, 4e+02]\n",
            "  Objective range  [5e+02, 9e+02]\n",
            "  Bounds range     [1e+00, 1e+00]\n",
            "  RHS range        [9e+02, 3e+03]\n",
            "Found heuristic solution: objective 8403.0000000\n",
            "Presolve removed 1 rows and 0 columns\n",
            "Presolve time: 0.00s\n",
            "Presolved: 5 rows, 20 columns, 100 nonzeros\n",
            "Variable types: 0 continuous, 20 integer (20 binary)\n",
            "Found heuristic solution: objective 8860.0000000\n",
            "\n",
            "Root relaxation: objective 9.560849e+03, 12 iterations, 0.00 seconds (0.00 work units)\n",
            "\n",
            "    Nodes    |    Current Node    |     Objective Bounds      |     Work\n",
            " Expl Unexpl |  Obj  Depth IntInf | Incumbent    BestBd   Gap | It/Node Time\n",
            "\n",
            "     0     0 9560.84871    0    5 8860.00000 9560.84871  7.91%     -    0s\n",
            "H    0     0                    9234.0000000 9560.84871  3.54%     -    0s\n",
            "     0     0 9522.59908    0    6 9234.00000 9522.59908  3.13%     -    0s\n",
            "H    0     0                    9280.0000000 9522.59908  2.61%     -    0s\n",
            "     0     0 9511.97995    0    6 9280.00000 9511.97995  2.50%     -    0s\n",
            "     0     0 9504.54026    0    5 9280.00000 9504.54026  2.42%     -    0s\n",
            "     0     0 9487.77734    0    6 9280.00000 9487.77734  2.24%     -    0s\n",
            "H    0     0                    9293.0000000 9487.77734  2.10%     -    0s\n",
            "     0     0 9487.13451    0    8 9293.00000 9487.13451  2.09%     -    0s\n",
            "     0     0 9486.51322    0    8 9293.00000 9486.51322  2.08%     -    0s\n",
            "     0     0 9484.61766    0    8 9293.00000 9484.61766  2.06%     -    0s\n",
            "     0     0 9482.57219    0    7 9293.00000 9482.57219  2.04%     -    0s\n",
            "     0     0 9481.98301    0    7 9293.00000 9481.98301  2.03%     -    0s\n",
            "     0     0 9481.57860    0    7 9293.00000 9481.57860  2.03%     -    0s\n",
            "     0     0 9474.39560    0    9 9293.00000 9474.39560  1.95%     -    0s\n",
            "     0     0 9473.70953    0    9 9293.00000 9473.70953  1.94%     -    0s\n",
            "     0     0 9473.62633    0   10 9293.00000 9473.62633  1.94%     -    0s\n",
            "     0     0 9465.58224    0   10 9293.00000 9465.58224  1.86%     -    0s\n",
            "     0     0 9463.01665    0   11 9293.00000 9463.01665  1.83%     -    0s\n",
            "     0     0 9462.81796    0   11 9293.00000 9462.81796  1.83%     -    0s\n",
            "     0     0 9462.78160    0   12 9293.00000 9462.78160  1.83%     -    0s\n",
            "     0     0 9462.64703    0   12 9293.00000 9462.64703  1.83%     -    0s\n",
            "     0     0 9462.28841    0   13 9293.00000 9462.28841  1.82%     -    0s\n",
            "     0     0 9448.95715    0   10 9293.00000 9448.95715  1.68%     -    0s\n",
            "     0     0 9446.73405    0    9 9293.00000 9446.73405  1.65%     -    0s\n",
            "     0     0 9446.17011    0   10 9293.00000 9446.17011  1.65%     -    0s\n",
            "     0     0 9445.13356    0   11 9293.00000 9445.13356  1.64%     -    0s\n",
            "     0     0 9443.84166    0    8 9293.00000 9443.84166  1.62%     -    0s\n",
            "     0     0 9443.69418    0   10 9293.00000 9443.69418  1.62%     -    0s\n",
            "     0     0 9443.07798    0   10 9293.00000 9443.07798  1.61%     -    0s\n",
            "     0     0 9442.87485    0   10 9293.00000 9442.87485  1.61%     -    0s\n",
            "     0     0 9442.31281    0   11 9293.00000 9442.31281  1.61%     -    0s\n",
            "     0     0 9442.15549    0   12 9293.00000 9442.15549  1.61%     -    0s\n",
            "     0     0 9441.83894    0   12 9293.00000 9441.83894  1.60%     -    0s\n",
            "     0     0 9441.55213    0   12 9293.00000 9441.55213  1.60%     -    0s\n",
            "     0     0 9438.75041    0   11 9293.00000 9438.75041  1.57%     -    0s\n",
            "     0     0 9438.52908    0   11 9293.00000 9438.52908  1.57%     -    0s\n",
            "     0     0 9438.28810    0   12 9293.00000 9438.28810  1.56%     -    0s\n",
            "     0     0 9437.76799    0   12 9293.00000 9437.76799  1.56%     -    0s\n",
            "     0     0 9437.70246    0   13 9293.00000 9437.70246  1.56%     -    0s\n",
            "     0     0 9436.77555    0   13 9293.00000 9436.77555  1.55%     -    0s\n",
            "     0     0 9436.77111    0   13 9293.00000 9436.77111  1.55%     -    0s\n",
            "     0     0 9436.76738    0   13 9293.00000 9436.76738  1.55%     -    0s\n",
            "     0     0 9435.59807    0   11 9293.00000 9435.59807  1.53%     -    0s\n",
            "     0     0 9435.56966    0   12 9293.00000 9435.56966  1.53%     -    0s\n",
            "     0     0 9435.47640    0   12 9293.00000 9435.47640  1.53%     -    0s\n",
            "     0     0 9435.39393    0   12 9293.00000 9435.39393  1.53%     -    0s\n",
            "     0     0 9435.37976    0   12 9293.00000 9435.37976  1.53%     -    0s\n",
            "     0     0 9435.24773    0   12 9293.00000 9435.24773  1.53%     -    0s\n",
            "     0     2 9426.16542    0   12 9293.00000 9426.16542  1.43%     -    0s\n",
            "\n",
            "Cutting planes:\n",
            "  Cover: 4\n",
            "  MIR: 9\n",
            "  StrongCG: 6\n",
            "\n",
            "Explored 136 nodes (730 simplex iterations) in 0.29 seconds (0.02 work units)\n",
            "Thread count was 2 (of 2 available processors)\n",
            "\n",
            "Solution count 5: 9293 9280 9234 ... 8403\n",
            "\n",
            "Optimal solution found (tolerance 1.00e-04)\n",
            "Best objective 9.293000000000e+03, best bound 9.293000000000e+03, gap 0.0000%\n"
          ]
        }
      ],
      "source": [
        "file_path = '/content/budget problem data.xlsx'\n",
        "data = pd.read_excel(file_path)\n",
        "\n",
        "budget = data.iloc[0, 2:5].values\n",
        "labor_availability = data.iloc[0, 5:].values\n",
        "\n",
        "project_data = data.iloc[1:].reset_index(drop=True)\n",
        "npv = project_data['NPV'].values\n",
        "cost_year_1 = project_data['Cost Year 1'].values\n",
        "cost_year_2 = project_data['Cost Year 2'].values\n",
        "cost_year_3 = project_data['Cost Year 3'].values\n",
        "labor_year_1 = project_data['Labor Year 1'].values\n",
        "labor_year_2 = project_data['Labor Year 2'].values\n",
        "labor_year_3 = project_data['Labor Year 3'].values\n",
        "\n",
        "num_projects = len(project_data)\n",
        "\n",
        "m = gp.Model(\"capital_budget\")\n",
        "\n",
        "x = m.addVars(num_projects, vtype=GRB.BINARY, name=\"x\")\n",
        "\n",
        "m.setObjective(gp.quicksum(npv[i] * x[i] for i in range(num_projects)), sense=GRB.MAXIMIZE)\n",
        "\n",
        "m.addConstr(gp.quicksum(cost_year_1[i] * x[i] for i in range(num_projects)) <= budget[0], \"budget_year_1\")\n",
        "m.addConstr(gp.quicksum(cost_year_2[i] * x[i] for i in range(num_projects)) <= budget[1], \"budget_year_2\")\n",
        "m.addConstr(gp.quicksum(cost_year_3[i] * x[i] for i in range(num_projects)) <= budget[2], \"budget_year_3\")\n",
        "\n",
        "m.addConstr(gp.quicksum(labor_year_1[i] * x[i] for i in range(num_projects)) <= labor_availability[0], \"labor_year_1\")\n",
        "m.addConstr(gp.quicksum(labor_year_2[i] * x[i] for i in range(num_projects)) <= labor_availability[1], \"labor_year_2\")\n",
        "m.addConstr(gp.quicksum(labor_year_3[i] * x[i] for i in range(num_projects)) <= labor_availability[2], \"labor_year_3\")\n",
        "\n",
        "m.optimize()"
      ]
    },
    {
      "cell_type": "code",
      "source": [
        "selected_projects = []\n",
        "for i, v in enumerate(m.getVars()):\n",
        "    print(v.VarName, v.X)\n",
        "    if v.X > 0:\n",
        "        selected_projects.append(i + 1)\n",
        "\n",
        "print(\"Selected projects:\", selected_projects)"
      ],
      "metadata": {
        "colab": {
          "base_uri": "https://localhost:8080/"
        },
        "id": "FjbTTNUTjyBd",
        "outputId": "32468fa1-c339-4a3d-bec4-9ddcf13339c5"
      },
      "execution_count": null,
      "outputs": [
        {
          "output_type": "stream",
          "name": "stdout",
          "text": [
            "x[0] 0.0\n",
            "x[1] 1.0\n",
            "x[2] 1.0\n",
            "x[3] 0.0\n",
            "x[4] -0.0\n",
            "x[5] 1.0\n",
            "x[6] 1.0\n",
            "x[7] 1.0\n",
            "x[8] 1.0\n",
            "x[9] 1.0\n",
            "x[10] -0.0\n",
            "x[11] -0.0\n",
            "x[12] 0.0\n",
            "x[13] 1.0\n",
            "x[14] 1.0\n",
            "x[15] 1.0\n",
            "x[16] 0.0\n",
            "x[17] -0.0\n",
            "x[18] 1.0\n",
            "x[19] 1.0\n",
            "Selected projects: [2, 3, 6, 7, 8, 9, 10, 14, 15, 16, 19, 20]\n"
          ]
        }
      ]
    },
    {
      "cell_type": "code",
      "source": [
        "print(m.ObjVal)"
      ],
      "metadata": {
        "colab": {
          "base_uri": "https://localhost:8080/"
        },
        "id": "bXKkv-BZjx-n",
        "outputId": "f8ffd478-5172-49cf-8855-f18626d96bdb"
      },
      "execution_count": null,
      "outputs": [
        {
          "output_type": "stream",
          "name": "stdout",
          "text": [
            "9293.0\n"
          ]
        }
      ]
    },
    {
      "cell_type": "markdown",
      "source": [
        "# II: Suppose if we select project 3, we must also select project 4.  "
      ],
      "metadata": {
        "id": "YlKLEZ-OV50I"
      }
    },
    {
      "cell_type": "code",
      "source": [
        "file_path = '/content/budget problem data.xlsx'\n",
        "data = pd.read_excel(file_path)\n",
        "\n",
        "budget = data.iloc[0, 2:5].values\n",
        "labor_availability = data.iloc[0, 5:].values\n",
        "\n",
        "project_data = data.iloc[1:].reset_index(drop=True)\n",
        "npv = project_data['NPV'].values\n",
        "cost_year_1 = project_data['Cost Year 1'].values\n",
        "cost_year_2 = project_data['Cost Year 2'].values\n",
        "cost_year_3 = project_data['Cost Year 3'].values\n",
        "labor_year_1 = project_data['Labor Year 1'].values\n",
        "labor_year_2 = project_data['Labor Year 2'].values\n",
        "labor_year_3 = project_data['Labor Year 3'].values\n",
        "\n",
        "num_projects = len(project_data)\n",
        "\n",
        "m = gp.Model(\"capital_budget\")\n",
        "\n",
        "x = m.addVars(num_projects, vtype=GRB.BINARY, name=\"x\")\n",
        "\n",
        "m.setObjective(gp.quicksum(npv[i] * x[i] for i in range(num_projects)), GRB.MAXIMIZE)\n",
        "\n",
        "m.addConstr(gp.quicksum(cost_year_1[i] * x[i] for i in range(num_projects)) <= budget[0], \"budget_year_1\")\n",
        "m.addConstr(gp.quicksum(cost_year_2[i] * x[i] for i in range(num_projects)) <= budget[1], \"budget_year_2\")\n",
        "m.addConstr(gp.quicksum(cost_year_3[i] * x[i] for i in range(num_projects)) <= budget[2], \"budget_year_3\")\n",
        "\n",
        "m.addConstr(gp.quicksum(labor_year_1[i] * x[i] for i in range(num_projects)) <= labor_availability[0], \"labor_year_1\")\n",
        "m.addConstr(gp.quicksum(labor_year_2[i] * x[i] for i in range(num_projects)) <= labor_availability[1], \"labor_year_2\")\n",
        "m.addConstr(gp.quicksum(labor_year_3[i] * x[i] for i in range(num_projects)) <= labor_availability[2], \"labor_year_3\")\n",
        "\n",
        "m.addConstr(x[2] <= x[3], \"project_3_implies_project_4\")\n",
        "\n",
        "m.optimize()"
      ],
      "metadata": {
        "colab": {
          "base_uri": "https://localhost:8080/"
        },
        "id": "3cYr5KLyV5oZ",
        "outputId": "1f958c39-87de-4b8c-c784-735117e7cd56"
      },
      "execution_count": null,
      "outputs": [
        {
          "output_type": "stream",
          "name": "stdout",
          "text": [
            "Gurobi Optimizer version 11.0.3 build v11.0.3rc0 (linux64 - \"Ubuntu 22.04.3 LTS\")\n",
            "\n",
            "CPU model: Intel(R) Xeon(R) CPU @ 2.20GHz, instruction set [SSE2|AVX|AVX2]\n",
            "Thread count: 1 physical cores, 2 logical processors, using up to 2 threads\n",
            "\n",
            "Optimize a model with 7 rows, 20 columns and 122 nonzeros\n",
            "Model fingerprint: 0xb81f2635\n",
            "Variable types: 0 continuous, 20 integer (20 binary)\n",
            "Coefficient statistics:\n",
            "  Matrix range     [1e+00, 4e+02]\n",
            "  Objective range  [5e+02, 9e+02]\n",
            "  Bounds range     [1e+00, 1e+00]\n",
            "  RHS range        [9e+02, 3e+03]\n",
            "Found heuristic solution: objective 7667.0000000\n",
            "Presolve removed 1 rows and 0 columns\n",
            "Presolve time: 0.00s\n",
            "Presolved: 6 rows, 20 columns, 102 nonzeros\n",
            "Variable types: 0 continuous, 20 integer (20 binary)\n",
            "Found heuristic solution: objective 8139.0000000\n",
            "\n",
            "Root relaxation: objective 9.421146e+03, 10 iterations, 0.00 seconds (0.00 work units)\n",
            "\n",
            "    Nodes    |    Current Node    |     Objective Bounds      |     Work\n",
            " Expl Unexpl |  Obj  Depth IntInf | Incumbent    BestBd   Gap | It/Node Time\n",
            "\n",
            "     0     0 9421.14620    0    5 8139.00000 9421.14620  15.8%     -    0s\n",
            "H    0     0                    9136.0000000 9421.14620  3.12%     -    0s\n",
            "     0     0 9414.40114    0    7 9136.00000 9414.40114  3.05%     -    0s\n",
            "     0     0 9402.28810    0    7 9136.00000 9402.28810  2.91%     -    0s\n",
            "     0     0 9396.19206    0    7 9136.00000 9396.19206  2.85%     -    0s\n",
            "     0     0 9390.99709    0    6 9136.00000 9390.99709  2.79%     -    0s\n",
            "     0     0 9380.83250    0    8 9136.00000 9380.83250  2.68%     -    0s\n",
            "     0     0 9377.75849    0    9 9136.00000 9377.75849  2.65%     -    0s\n",
            "     0     0 9375.78987    0   10 9136.00000 9375.78987  2.62%     -    0s\n",
            "     0     0 9373.78666    0   10 9136.00000 9373.78666  2.60%     -    0s\n",
            "     0     0 9356.48774    0   11 9136.00000 9356.48774  2.41%     -    0s\n",
            "     0     0 9350.78078    0    9 9136.00000 9350.78078  2.35%     -    0s\n",
            "     0     0 9348.45063    0    9 9136.00000 9348.45063  2.33%     -    0s\n",
            "     0     0 9348.35925    0   10 9136.00000 9348.35925  2.32%     -    0s\n",
            "     0     0 9348.10202    0    8 9136.00000 9348.10202  2.32%     -    0s\n",
            "     0     0 9346.68585    0   11 9136.00000 9346.68585  2.31%     -    0s\n",
            "     0     0 9346.37293    0   12 9136.00000 9346.37293  2.30%     -    0s\n",
            "     0     0 9345.15775    0   12 9136.00000 9345.15775  2.29%     -    0s\n",
            "     0     0 9344.32789    0   12 9136.00000 9344.32789  2.28%     -    0s\n",
            "     0     0 9343.46731    0   13 9136.00000 9343.46731  2.27%     -    0s\n",
            "H    0     0                    9178.0000000 9343.46731  1.80%     -    0s\n",
            "     0     0 9343.23629    0   14 9178.00000 9343.23629  1.80%     -    0s\n",
            "     0     0 9342.80869    0   14 9178.00000 9342.80869  1.80%     -    0s\n",
            "     0     0 9342.78494    0   13 9178.00000 9342.78494  1.80%     -    0s\n",
            "     0     0 9342.51842    0   14 9178.00000 9342.51842  1.79%     -    0s\n",
            "     0     0 9342.35795    0   13 9178.00000 9342.35795  1.79%     -    0s\n",
            "     0     0 9342.18145    0   13 9178.00000 9342.18145  1.79%     -    0s\n",
            "     0     0 9341.78098    0   14 9178.00000 9341.78098  1.78%     -    0s\n",
            "     0     0 9341.73732    0   14 9178.00000 9341.73732  1.78%     -    0s\n",
            "     0     0 9341.63285    0   14 9178.00000 9341.63285  1.78%     -    0s\n",
            "     0     0 9341.41862    0   13 9178.00000 9341.41862  1.78%     -    0s\n",
            "     0     0 9341.10454    0   14 9178.00000 9341.10454  1.78%     -    0s\n",
            "     0     0 9341.06034    0   15 9178.00000 9341.06034  1.78%     -    0s\n",
            "     0     0 9341.02800    0   15 9178.00000 9341.02800  1.78%     -    0s\n",
            "     0     0 9340.79696    0   14 9178.00000 9340.79696  1.77%     -    0s\n",
            "     0     0 9339.96523    0   14 9178.00000 9339.96523  1.76%     -    0s\n",
            "     0     0 9339.93791    0   15 9178.00000 9339.93791  1.76%     -    0s\n",
            "     0     0 9338.30178    0   13 9178.00000 9338.30178  1.75%     -    0s\n",
            "     0     0 9338.23566    0   13 9178.00000 9338.23566  1.75%     -    0s\n",
            "     0     0 9338.13623    0   14 9178.00000 9338.13623  1.74%     -    0s\n",
            "     0     0 9338.03073    0   13 9178.00000 9338.03073  1.74%     -    0s\n",
            "     0     0 9337.81467    0   13 9178.00000 9337.81467  1.74%     -    0s\n",
            "     0     0 9337.66840    0   14 9178.00000 9337.66840  1.74%     -    0s\n",
            "     0     0 9337.63468    0   13 9178.00000 9337.63468  1.74%     -    0s\n",
            "     0     0 9337.36845    0   13 9178.00000 9337.36845  1.74%     -    0s\n",
            "     0     0 9337.30262    0   14 9178.00000 9337.30262  1.74%     -    0s\n",
            "     0     0 9337.10062    0   15 9178.00000 9337.10062  1.73%     -    0s\n",
            "     0     0 9336.27576    0   15 9178.00000 9336.27576  1.72%     -    0s\n",
            "     0     0 9336.20122    0   15 9178.00000 9336.20122  1.72%     -    0s\n",
            "     0     0 9335.89485    0   15 9178.00000 9335.89485  1.72%     -    0s\n",
            "     0     0 9335.51910    0   15 9178.00000 9335.51910  1.72%     -    0s\n",
            "     0     0 9335.33751    0   16 9178.00000 9335.33751  1.71%     -    0s\n",
            "     0     0 9334.80940    0   14 9178.00000 9334.80940  1.71%     -    0s\n",
            "     0     0 9334.10378    0   14 9178.00000 9334.10378  1.70%     -    0s\n",
            "     0     0 9333.90845    0   15 9178.00000 9333.90845  1.70%     -    0s\n",
            "     0     0 9332.46739    0   15 9178.00000 9332.46739  1.68%     -    0s\n",
            "     0     0 9332.35466    0   15 9178.00000 9332.35466  1.68%     -    0s\n",
            "     0     0 9332.32770    0   16 9178.00000 9332.32770  1.68%     -    0s\n",
            "     0     0 9331.76204    0   15 9178.00000 9331.76204  1.68%     -    0s\n",
            "     0     0 9331.34758    0   16 9178.00000 9331.34758  1.67%     -    0s\n",
            "     0     0 9330.63071    0   16 9178.00000 9330.63071  1.66%     -    0s\n",
            "     0     0 9330.13761    0   15 9178.00000 9330.13761  1.66%     -    0s\n",
            "     0     0 9329.76173    0   16 9178.00000 9329.76173  1.65%     -    0s\n",
            "     0     0 9329.68345    0   16 9178.00000 9329.68345  1.65%     -    0s\n",
            "     0     0 9329.61083    0   16 9178.00000 9329.61083  1.65%     -    0s\n",
            "     0     0 9329.31587    0   16 9178.00000 9329.31587  1.65%     -    0s\n",
            "     0     0 9326.29671    0   14 9178.00000 9326.29671  1.62%     -    0s\n",
            "     0     0 9326.29381    0   15 9178.00000 9326.29381  1.62%     -    0s\n",
            "     0     0 9326.06345    0   16 9178.00000 9326.06345  1.61%     -    0s\n",
            "     0     0 9325.85226    0   16 9178.00000 9325.85226  1.61%     -    0s\n",
            "     0     0 9325.16950    0   15 9178.00000 9325.16950  1.60%     -    0s\n",
            "     0     0 9325.16808    0   16 9178.00000 9325.16808  1.60%     -    0s\n",
            "     0     0 9324.95438    0   15 9178.00000 9324.95438  1.60%     -    0s\n",
            "     0     0 9324.91220    0   16 9178.00000 9324.91220  1.60%     -    0s\n",
            "     0     0 9323.90097    0   14 9178.00000 9323.90097  1.59%     -    0s\n",
            "     0     0 9323.88882    0   15 9178.00000 9323.88882  1.59%     -    0s\n",
            "     0     0 9323.73889    0   15 9178.00000 9323.73889  1.59%     -    0s\n",
            "     0     2 9323.35382    0   15 9178.00000 9323.35382  1.58%     -    0s\n",
            "\n",
            "Cutting planes:\n",
            "  Cover: 4\n",
            "  MIR: 10\n",
            "  StrongCG: 6\n",
            "\n",
            "Explored 173 nodes (1005 simplex iterations) in 0.40 seconds (0.03 work units)\n",
            "Thread count was 2 (of 2 available processors)\n",
            "\n",
            "Solution count 4: 9178 9136 8139 7667 \n",
            "\n",
            "Optimal solution found (tolerance 1.00e-04)\n",
            "Best objective 9.178000000000e+03, best bound 9.178000000000e+03, gap 0.0000%\n"
          ]
        }
      ]
    },
    {
      "cell_type": "code",
      "source": [
        "selected_projects = []\n",
        "for i, v in enumerate(m.getVars()):\n",
        "    print(v.VarName, v.X)\n",
        "    if v.X > 0:\n",
        "        selected_projects.append(i + 1)\n",
        "\n",
        "print(\"Selected projects:\", selected_projects)"
      ],
      "metadata": {
        "colab": {
          "base_uri": "https://localhost:8080/"
        },
        "id": "quo8SJoSkD75",
        "outputId": "282b517c-bf11-495e-d37f-7216786520fe"
      },
      "execution_count": null,
      "outputs": [
        {
          "output_type": "stream",
          "name": "stdout",
          "text": [
            "x[0] 1.0\n",
            "x[1] 1.0\n",
            "x[2] 1.0\n",
            "x[3] 1.0\n",
            "x[4] 0.0\n",
            "x[5] 1.0\n",
            "x[6] 1.0\n",
            "x[7] 1.0\n",
            "x[8] 1.0\n",
            "x[9] 0.0\n",
            "x[10] 1.0\n",
            "x[11] 0.0\n",
            "x[12] 0.0\n",
            "x[13] 0.0\n",
            "x[14] 0.0\n",
            "x[15] 1.0\n",
            "x[16] 1.0\n",
            "x[17] 0.0\n",
            "x[18] 1.0\n",
            "x[19] 0.0\n",
            "Selected projects: [1, 2, 3, 4, 6, 7, 8, 9, 11, 16, 17, 19]\n"
          ]
        }
      ]
    },
    {
      "cell_type": "code",
      "source": [
        "print(m.ObjVal)"
      ],
      "metadata": {
        "colab": {
          "base_uri": "https://localhost:8080/"
        },
        "id": "6JOHpGIykD5D",
        "outputId": "ee1cfb92-e867-43db-e640-75ec273ff1b4"
      },
      "execution_count": null,
      "outputs": [
        {
          "output_type": "stream",
          "name": "stdout",
          "text": [
            "9178.0\n"
          ]
        }
      ]
    },
    {
      "cell_type": "markdown",
      "source": [
        "# III: suppose we can do only 4 projects from among projects 1 through 10."
      ],
      "metadata": {
        "id": "71SVg3YXilWT"
      }
    },
    {
      "cell_type": "code",
      "source": [
        "file_path = '/content/budget problem data.xlsx'\n",
        "data = pd.read_excel(file_path)\n",
        "\n",
        "budget = data.iloc[0, 2:5].values\n",
        "labor_availability = data.iloc[0, 5:].values\n",
        "\n",
        "project_data = data.iloc[1:].reset_index(drop=True)\n",
        "npv = project_data['NPV'].values\n",
        "cost_year_1 = project_data['Cost Year 1'].values\n",
        "cost_year_2 = project_data['Cost Year 2'].values\n",
        "cost_year_3 = project_data['Cost Year 3'].values\n",
        "labor_year_1 = project_data['Labor Year 1'].values\n",
        "labor_year_2 = project_data['Labor Year 2'].values\n",
        "labor_year_3 = project_data['Labor Year 3'].values\n",
        "\n",
        "num_projects = len(project_data)\n",
        "\n",
        "m = gp.Model(\"capital_budget\")\n",
        "\n",
        "x = m.addVars(num_projects, vtype=GRB.BINARY, name=\"x\")\n",
        "\n",
        "m.setObjective(gp.quicksum(npv[i] * x[i] for i in range(num_projects)), GRB.MAXIMIZE)\n",
        "\n",
        "m.addConstr(gp.quicksum(cost_year_1[i] * x[i] for i in range(num_projects)) <= budget[0], \"budget_year_1\")\n",
        "m.addConstr(gp.quicksum(cost_year_2[i] * x[i] for i in range(num_projects)) <= budget[1], \"budget_year_2\")\n",
        "m.addConstr(gp.quicksum(cost_year_3[i] * x[i] for i in range(num_projects)) <= budget[2], \"budget_year_3\")\n",
        "\n",
        "m.addConstr(gp.quicksum(labor_year_1[i] * x[i] for i in range(num_projects)) <= labor_availability[0], \"labor_year_1\")\n",
        "m.addConstr(gp.quicksum(labor_year_2[i] * x[i] for i in range(num_projects)) <= labor_availability[1], \"labor_year_2\")\n",
        "m.addConstr(gp.quicksum(labor_year_3[i] * x[i] for i in range(num_projects)) <= labor_availability[2], \"labor_year_3\")\n",
        "\n",
        "m.addConstr(gp.quicksum(x[i] for i in range(10)) <= 4, \"max_4_projects_from_1_to_10\")\n",
        "\n",
        "m.optimize()"
      ],
      "metadata": {
        "colab": {
          "base_uri": "https://localhost:8080/"
        },
        "id": "5YbKKSicV5ld",
        "outputId": "5149d046-6fa7-4efd-f65c-79afb31c458b"
      },
      "execution_count": null,
      "outputs": [
        {
          "output_type": "stream",
          "name": "stdout",
          "text": [
            "Gurobi Optimizer version 11.0.3 build v11.0.3rc0 (linux64 - \"Ubuntu 22.04.3 LTS\")\n",
            "\n",
            "CPU model: Intel(R) Xeon(R) CPU @ 2.20GHz, instruction set [SSE2|AVX|AVX2]\n",
            "Thread count: 1 physical cores, 2 logical processors, using up to 2 threads\n",
            "\n",
            "Optimize a model with 7 rows, 20 columns and 130 nonzeros\n",
            "Model fingerprint: 0x1abbafee\n",
            "Variable types: 0 continuous, 20 integer (20 binary)\n",
            "Coefficient statistics:\n",
            "  Matrix range     [1e+00, 4e+02]\n",
            "  Objective range  [5e+02, 9e+02]\n",
            "  Bounds range     [1e+00, 1e+00]\n",
            "  RHS range        [4e+00, 3e+03]\n",
            "Found heuristic solution: objective 8198.0000000\n",
            "Presolve removed 1 rows and 0 columns\n",
            "Presolve time: 0.00s\n",
            "Presolved: 6 rows, 20 columns, 110 nonzeros\n",
            "Variable types: 0 continuous, 20 integer (20 binary)\n",
            "Found heuristic solution: objective 8518.0000000\n",
            "\n",
            "Root relaxation: objective 9.226900e+03, 9 iterations, 0.00 seconds (0.00 work units)\n",
            "\n",
            "    Nodes    |    Current Node    |     Objective Bounds      |     Work\n",
            " Expl Unexpl |  Obj  Depth IntInf | Incumbent    BestBd   Gap | It/Node Time\n",
            "\n",
            "     0     0 9226.90040    0    4 8518.00000 9226.90040  8.32%     -    0s\n",
            "H    0     0                    8660.0000000 9226.90040  6.55%     -    0s\n",
            "H    0     0                    8844.0000000 9226.90040  4.33%     -    0s\n",
            "H    0     0                    9014.0000000 9226.90040  2.36%     -    0s\n",
            "     0     0 9213.68716    0    5 9014.00000 9213.68716  2.22%     -    0s\n",
            "     0     0 9194.89279    0    6 9014.00000 9194.89279  2.01%     -    0s\n",
            "     0     0 9194.82946    0    7 9014.00000 9194.82946  2.01%     -    0s\n",
            "     0     0 9187.46921    0    6 9014.00000 9187.46921  1.92%     -    0s\n",
            "     0     0 9181.34391    0    7 9014.00000 9181.34391  1.86%     -    0s\n",
            "H    0     0                    9072.0000000 9181.34391  1.21%     -    0s\n",
            "     0     0 9178.58606    0    7 9072.00000 9178.58606  1.17%     -    0s\n",
            "     0     0 9178.31199    0    8 9072.00000 9178.31199  1.17%     -    0s\n",
            "     0     0 9176.86241    0    8 9072.00000 9176.86241  1.16%     -    0s\n",
            "     0     0 9160.48338    0    6 9072.00000 9160.48338  0.98%     -    0s\n",
            "     0     0 9160.12865    0    6 9072.00000 9160.12865  0.97%     -    0s\n",
            "     0     0 9160.08997    0    7 9072.00000 9160.08997  0.97%     -    0s\n",
            "     0     0 9154.14570    0    7 9072.00000 9154.14570  0.91%     -    0s\n",
            "     0     0 9147.75266    0    6 9072.00000 9147.75266  0.84%     -    0s\n",
            "     0     0 9147.67548    0    7 9072.00000 9147.67548  0.83%     -    0s\n",
            "     0     0 9147.01191    0    7 9072.00000 9147.01191  0.83%     -    0s\n",
            "     0     0 9146.25187    0    8 9072.00000 9146.25187  0.82%     -    0s\n",
            "     0     0 9146.14176    0    9 9072.00000 9146.14176  0.82%     -    0s\n",
            "     0     0 9145.31040    0    9 9072.00000 9145.31040  0.81%     -    0s\n",
            "     0     0 9144.53016    0    8 9072.00000 9144.53016  0.80%     -    0s\n",
            "     0     0 9144.16741    0    9 9072.00000 9144.16741  0.80%     -    0s\n",
            "     0     0 9142.43074    0    8 9072.00000 9142.43074  0.78%     -    0s\n",
            "     0     0 9142.42459    0    9 9072.00000 9142.42459  0.78%     -    0s\n",
            "     0     0 9139.89669    0    8 9072.00000 9139.89669  0.75%     -    0s\n",
            "     0     0 9138.97213    0    8 9072.00000 9138.97213  0.74%     -    0s\n",
            "     0     0 9136.53906    0    8 9072.00000 9136.53906  0.71%     -    0s\n",
            "     0     0 9132.91813    0    8 9072.00000 9132.91813  0.67%     -    0s\n",
            "     0     0 9132.57143    0    9 9072.00000 9132.57143  0.67%     -    0s\n",
            "     0     0 9132.08943    0    9 9072.00000 9132.08943  0.66%     -    0s\n",
            "     0     0 9131.68657    0    9 9072.00000 9131.68657  0.66%     -    0s\n",
            "     0     0 9130.64286    0   10 9072.00000 9130.64286  0.65%     -    0s\n",
            "     0     0 9129.25714    0   10 9072.00000 9129.25714  0.63%     -    0s\n",
            "     0     0 9127.79833    0    7 9072.00000 9127.79833  0.62%     -    0s\n",
            "     0     0 9127.29680    0    7 9072.00000 9127.29680  0.61%     -    0s\n",
            "     0     0 9127.16569    0    8 9072.00000 9127.16569  0.61%     -    0s\n",
            "     0     0 9125.86538    0    8 9072.00000 9125.86538  0.59%     -    0s\n",
            "     0     0 9125.59453    0    9 9072.00000 9125.59453  0.59%     -    0s\n",
            "     0     0 9124.29588    0    9 9072.00000 9124.29588  0.58%     -    0s\n",
            "     0     0 9122.51366    0    9 9072.00000 9122.51366  0.56%     -    0s\n",
            "     0     0 9122.46482    0   10 9072.00000 9122.46482  0.56%     -    0s\n",
            "     0     0 9121.99610    0   10 9072.00000 9121.99610  0.55%     -    0s\n",
            "     0     0 9119.10010    0   10 9072.00000 9119.10010  0.52%     -    0s\n",
            "     0     0 9114.76873    0    9 9072.00000 9114.76873  0.47%     -    0s\n",
            "     0     0 9113.73517    0   10 9072.00000 9113.73517  0.46%     -    0s\n",
            "     0     0 9113.07143    0   10 9072.00000 9113.07143  0.45%     -    0s\n",
            "     0     0 9110.62500    0    6 9072.00000 9110.62500  0.43%     -    0s\n",
            "     0     0 9110.13462    0    8 9072.00000 9110.13462  0.42%     -    0s\n",
            "     0     0 9107.65934    0    9 9072.00000 9107.65934  0.39%     -    0s\n",
            "     0     0 9105.92449    0   11 9072.00000 9105.92449  0.37%     -    0s\n",
            "     0     0 9105.58333    0   12 9072.00000 9105.58333  0.37%     -    0s\n",
            "     0     0 9101.17857    0    9 9072.00000 9101.17857  0.32%     -    0s\n",
            "     0     0 9100.60000    0   11 9072.00000 9100.60000  0.32%     -    0s\n",
            "     0     0 9100.43750    0   11 9072.00000 9100.43750  0.31%     -    0s\n",
            "     0     0 9100.15315    0   11 9072.00000 9100.15315  0.31%     -    0s\n",
            "     0     0 9099.65000    0   11 9072.00000 9099.65000  0.30%     -    0s\n",
            "     0     0 9099.57258    0   11 9072.00000 9099.57258  0.30%     -    0s\n",
            "     0     0 9094.87500    0   10 9072.00000 9094.87500  0.25%     -    0s\n",
            "     0     0 9093.58333    0   10 9072.00000 9093.58333  0.24%     -    0s\n",
            "     0     0 9092.62500    0   11 9072.00000 9092.62500  0.23%     -    0s\n",
            "     0     0 9089.84615    0   11 9072.00000 9089.84615  0.20%     -    0s\n",
            "     0     0 9089.60000    0   11 9072.00000 9089.60000  0.19%     -    0s\n",
            "\n",
            "Cutting planes:\n",
            "  Cover: 1\n",
            "  MIR: 8\n",
            "  StrongCG: 1\n",
            "\n",
            "Explored 1 nodes (147 simplex iterations) in 0.22 seconds (0.01 work units)\n",
            "Thread count was 2 (of 2 available processors)\n",
            "\n",
            "Solution count 6: 9072 9014 8844 ... 8198\n",
            "\n",
            "Optimal solution found (tolerance 1.00e-04)\n",
            "Best objective 9.072000000000e+03, best bound 9.072000000000e+03, gap 0.0000%\n"
          ]
        }
      ]
    },
    {
      "cell_type": "code",
      "source": [
        "selected_projects = []\n",
        "for i, v in enumerate(m.getVars()):\n",
        "    print(v.VarName, v.X)\n",
        "    if v.X > 0:\n",
        "        selected_projects.append(i + 1)\n",
        "\n",
        "print(\"Selected projects:\", selected_projects)"
      ],
      "metadata": {
        "id": "YjEW7CVQiO-O",
        "colab": {
          "base_uri": "https://localhost:8080/"
        },
        "outputId": "de342d7a-8c40-4249-f67a-bb63d1a0c6e0"
      },
      "execution_count": null,
      "outputs": [
        {
          "output_type": "stream",
          "name": "stdout",
          "text": [
            "x[0] -0.0\n",
            "x[1] -0.0\n",
            "x[2] 1.0\n",
            "x[3] -0.0\n",
            "x[4] -0.0\n",
            "x[5] -0.0\n",
            "x[6] -0.0\n",
            "x[7] 1.0\n",
            "x[8] 1.0\n",
            "x[9] 1.0\n",
            "x[10] 1.0\n",
            "x[11] -0.0\n",
            "x[12] -0.0\n",
            "x[13] 1.0\n",
            "x[14] 1.0\n",
            "x[15] 1.0\n",
            "x[16] 1.0\n",
            "x[17] 1.0\n",
            "x[18] 1.0\n",
            "x[19] 1.0\n",
            "Selected projects: [3, 8, 9, 10, 11, 14, 15, 16, 17, 18, 19, 20]\n"
          ]
        }
      ]
    },
    {
      "cell_type": "code",
      "source": [
        "print(m.ObjVal)"
      ],
      "metadata": {
        "id": "Km0E5h22iP9B",
        "colab": {
          "base_uri": "https://localhost:8080/"
        },
        "outputId": "c86e2683-17b1-4560-bf2e-4a9d015988d2"
      },
      "execution_count": null,
      "outputs": [
        {
          "output_type": "stream",
          "name": "stdout",
          "text": [
            "9072.0\n"
          ]
        }
      ]
    },
    {
      "cell_type": "code",
      "source": [],
      "metadata": {
        "id": "ga4qlsheiPxh"
      },
      "execution_count": null,
      "outputs": []
    },
    {
      "cell_type": "code",
      "source": [],
      "metadata": {
        "id": "cB5pdLj6iPus"
      },
      "execution_count": null,
      "outputs": []
    },
    {
      "cell_type": "code",
      "source": [],
      "metadata": {
        "id": "MkOk-Hb4iPsY"
      },
      "execution_count": null,
      "outputs": []
    },
    {
      "cell_type": "code",
      "source": [],
      "metadata": {
        "id": "tytc9P00iPp2"
      },
      "execution_count": null,
      "outputs": []
    },
    {
      "cell_type": "code",
      "source": [],
      "metadata": {
        "id": "o67-n9_GV5ja"
      },
      "execution_count": null,
      "outputs": []
    },
    {
      "cell_type": "code",
      "source": [],
      "metadata": {
        "id": "qNvUYiD-V5hG"
      },
      "execution_count": null,
      "outputs": []
    },
    {
      "cell_type": "code",
      "source": [],
      "metadata": {
        "id": "pkYXxr2CV5et"
      },
      "execution_count": null,
      "outputs": []
    },
    {
      "cell_type": "code",
      "source": [],
      "metadata": {
        "id": "WK9WGdXKV5bc"
      },
      "execution_count": null,
      "outputs": []
    },
    {
      "cell_type": "code",
      "source": [],
      "metadata": {
        "id": "3HBHtL9bV5Zl"
      },
      "execution_count": null,
      "outputs": []
    },
    {
      "cell_type": "code",
      "source": [],
      "metadata": {
        "id": "dNvM4JNjV5XG"
      },
      "execution_count": null,
      "outputs": []
    },
    {
      "cell_type": "code",
      "source": [],
      "metadata": {
        "id": "otUQ7zKnV5VI"
      },
      "execution_count": null,
      "outputs": []
    },
    {
      "cell_type": "code",
      "source": [],
      "metadata": {
        "id": "FAzM-Jt7V5Sx"
      },
      "execution_count": null,
      "outputs": []
    },
    {
      "cell_type": "code",
      "source": [],
      "metadata": {
        "id": "AmZejIYfV5Qs"
      },
      "execution_count": null,
      "outputs": []
    },
    {
      "cell_type": "code",
      "source": [],
      "metadata": {
        "id": "SvuZZx_3TEwt"
      },
      "execution_count": null,
      "outputs": []
    }
  ]
}